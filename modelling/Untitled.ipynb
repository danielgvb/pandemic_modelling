{
 "cells": [
  {
   "cell_type": "code",
   "execution_count": null,
   "id": "6797fa38-fd5e-4cfa-9749-32ec8acda25b",
   "metadata": {},
   "outputs": [],
   "source": [
    " def ggm(series, mt = None, prelimestimates = None, alpha = 0.05, oos=None, display = True):\n",
    "     def _mt_func(t,K,pc,qc):\n",
    "         mt=K*np.sqrt(np.abs((1-np.exp(-(pc+qc)*t))/(1+(qc/pc)*np.exp(-(pc+qc)*t))))\n",
    "         return mt\n",
    "\n"
   ]
  }
 ],
 "metadata": {
  "kernelspec": {
   "display_name": "Python 3 (ipykernel)",
   "language": "python",
   "name": "python3"
  },
  "language_info": {
   "codemirror_mode": {
    "name": "ipython",
    "version": 3
   },
   "file_extension": ".py",
   "mimetype": "text/x-python",
   "name": "python",
   "nbconvert_exporter": "python",
   "pygments_lexer": "ipython3",
   "version": "3.12.9"
  }
 },
 "nbformat": 4,
 "nbformat_minor": 5
}

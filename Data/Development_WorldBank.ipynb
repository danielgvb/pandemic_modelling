{
 "cells": [
  {
   "cell_type": "markdown",
   "id": "85184e6d-018d-4720-ae5a-45b4f4e54292",
   "metadata": {},
   "source": [
    "# World Bank Development Indicators"
   ]
  },
  {
   "cell_type": "code",
   "execution_count": null,
   "id": "c396031e-bef5-4ae3-be3c-cde581d5ceea",
   "metadata": {},
   "outputs": [],
   "source": []
  }
 ],
 "metadata": {
  "kernelspec": {
   "display_name": "Python 3 (ipykernel)",
   "language": "python",
   "name": "python3"
  },
  "language_info": {
   "codemirror_mode": {
    "name": "ipython",
    "version": 3
   },
   "file_extension": ".py",
   "mimetype": "text/x-python",
   "name": "python",
   "nbconvert_exporter": "python",
   "pygments_lexer": "ipython3",
   "version": "3.12.9"
  }
 },
 "nbformat": 4,
 "nbformat_minor": 5
}

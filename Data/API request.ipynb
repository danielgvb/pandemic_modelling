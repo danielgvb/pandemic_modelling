{
 "cells": [
  {
   "cell_type": "code",
   "execution_count": 2,
   "id": "fa62d582-2e5e-49d7-8881-5c326c7202e0",
   "metadata": {},
   "outputs": [
    {
     "name": "stdout",
     "output_type": "stream",
     "text": [
      "{'conformsTo': 'http://www.mintic.gov.co', 'publisher': {'identifier': 'b31c067a-1d3e-52a4-9fe4-f71416d3c885', 'data': {'@type': 'org:Organization', 'name': 'Salud'}}, 'identifier': '1-026-22-000135', 'description': 'Registro de pacientes atendidos en las Instituciones Prestadoras de Servicios de Salud con diagnóstico probable o confirmado de Dengue.', 'license': 'https://creativecommons.org/licenses/by-sa/4.0/legalcode', 'title': 'Dengue', 'issued': '24-09-2019', 'temporal': '2008-01-01T00:00:00Z', 'modified': '10-04-2023', '@type': 'dcat:Dataset', 'theme': [{'identifier': 'befa246b-1336-5ca9-8d4f-2da3bf4e89e9', 'data': 'Salud y Protección Social'}], 'keyword': [{'identifier': 'faf29597-4254-557f-83cd-70947c2e4bbb', 'data': 'Dengue'}, {'identifier': '897f99dc-4a39-5007-8d25-106f629cdea9', 'data': 'datos'}], 'accrualPeriodicity': 'R/P1Y', 'distribution': [{'identifier': '23a7c213-7c2d-5ab4-a071-9c1704b04224', 'data': {'title': 'Dengue', 'format': 'csv', 'mediaType': 'text/csv', '@type': 'dcat:Distribution', 'downloadURL': 'https://medata.gov.co/sites/default/files/distribution/1-026-22-000135/sivigila_dengue.csv', 'describedBy': 'http://10.1.222.231:9870/webhdfs/v1/MEData/Comma/Salud/Sivigila_Dengue.json?op=OPEN', '%Ref:downloadURL': [{'identifier': 'aad8948614a78027e98ecec07d0bbaf1__1703248288__source', 'data': {'filePath': 'https://h-o.st/sites/default/files/distribution/1-026-22-000135/sivigila_dengue.csv', 'identifier': 'aad8948614a78027e98ecec07d0bbaf1', 'mimeType': 'text/csv', 'perspective': 'source', 'version': '1703248288', 'checksum': None}}]}}, {'identifier': '96076ad8-a7b0-5308-808c-ba529290389c', 'data': {'title': 'Diccionario de datos', 'format': 'json', 'mediaType': 'text/json', '@type': 'dcat:Distribution', 'downloadURL': 'https://medata.gov.co/sites/default/files/distribution/1-026-22-000135/Sivigila_Dengue.json', 'describedBy': 'http://10.1.222.231:9870/webhdfs/v1/MEData/Comma/Salud/Sivigila_Dengue.json?op=OPEN', '%Ref:downloadURL': [{'identifier': '57e964b1cf751069b12beff261cec898__1703248288__source', 'data': {'filePath': 'https://h-o.st/sites/default/files/distribution/1-026-22-000135/Sivigila_Dengue.json', 'identifier': '57e964b1cf751069b12beff261cec898', 'mimeType': 'text/json', 'perspective': 'source', 'version': '1703248288', 'checksum': None}}]}}], 'accessLevel': 'public', 'contactPoint': {'hasEmail': 'medata@medellin.gov.co', 'fn': 'Secretaría de Salud - Unidad de Gestión de la Información y el Conocimiento'}, '%modified': '2025-02-14T04:02:51-0500'}\n"
     ]
    }
   ],
   "source": [
    "import requests\n",
    "\n",
    "# Metadata URL\n",
    "url = \"https://medata.gov.co/api/1/metastore/schemas/dataset/items/1-026-22-000135?show-reference-ids=true\"\n",
    "\n",
    "# Send GET request to retrieve metadata\n",
    "response = requests.get(url)\n",
    "\n",
    "# Check if the request was successful\n",
    "if response.status_code == 200:\n",
    "    metadata = response.json()  # Get the JSON response\n",
    "    print(metadata)  # Inspect the metadata to understand its structure\n",
    "else:\n",
    "    print(f\"Error: {response.status_code}\")"
   ]
  },
  {
   "cell_type": "code",
   "execution_count": 3,
   "id": "5dda2e73-0a88-45d3-95e6-225eeef3314b",
   "metadata": {},
   "outputs": [
    {
     "data": {
      "text/plain": [
       "{'conformsTo': 'http://www.mintic.gov.co',\n",
       " 'publisher': {'identifier': 'b31c067a-1d3e-52a4-9fe4-f71416d3c885',\n",
       "  'data': {'@type': 'org:Organization', 'name': 'Salud'}},\n",
       " 'identifier': '1-026-22-000135',\n",
       " 'description': 'Registro de pacientes atendidos en las Instituciones Prestadoras de Servicios de Salud con diagnóstico probable o confirmado de Dengue.',\n",
       " 'license': 'https://creativecommons.org/licenses/by-sa/4.0/legalcode',\n",
       " 'title': 'Dengue',\n",
       " 'issued': '24-09-2019',\n",
       " 'temporal': '2008-01-01T00:00:00Z',\n",
       " 'modified': '10-04-2023',\n",
       " '@type': 'dcat:Dataset',\n",
       " 'theme': [{'identifier': 'befa246b-1336-5ca9-8d4f-2da3bf4e89e9',\n",
       "   'data': 'Salud y Protección Social'}],\n",
       " 'keyword': [{'identifier': 'faf29597-4254-557f-83cd-70947c2e4bbb',\n",
       "   'data': 'Dengue'},\n",
       "  {'identifier': '897f99dc-4a39-5007-8d25-106f629cdea9', 'data': 'datos'}],\n",
       " 'accrualPeriodicity': 'R/P1Y',\n",
       " 'distribution': [{'identifier': '23a7c213-7c2d-5ab4-a071-9c1704b04224',\n",
       "   'data': {'title': 'Dengue',\n",
       "    'format': 'csv',\n",
       "    'mediaType': 'text/csv',\n",
       "    '@type': 'dcat:Distribution',\n",
       "    'downloadURL': 'https://medata.gov.co/sites/default/files/distribution/1-026-22-000135/sivigila_dengue.csv',\n",
       "    'describedBy': 'http://10.1.222.231:9870/webhdfs/v1/MEData/Comma/Salud/Sivigila_Dengue.json?op=OPEN',\n",
       "    '%Ref:downloadURL': [{'identifier': 'aad8948614a78027e98ecec07d0bbaf1__1703248288__source',\n",
       "      'data': {'filePath': 'https://h-o.st/sites/default/files/distribution/1-026-22-000135/sivigila_dengue.csv',\n",
       "       'identifier': 'aad8948614a78027e98ecec07d0bbaf1',\n",
       "       'mimeType': 'text/csv',\n",
       "       'perspective': 'source',\n",
       "       'version': '1703248288',\n",
       "       'checksum': None}}]}},\n",
       "  {'identifier': '96076ad8-a7b0-5308-808c-ba529290389c',\n",
       "   'data': {'title': 'Diccionario de datos',\n",
       "    'format': 'json',\n",
       "    'mediaType': 'text/json',\n",
       "    '@type': 'dcat:Distribution',\n",
       "    'downloadURL': 'https://medata.gov.co/sites/default/files/distribution/1-026-22-000135/Sivigila_Dengue.json',\n",
       "    'describedBy': 'http://10.1.222.231:9870/webhdfs/v1/MEData/Comma/Salud/Sivigila_Dengue.json?op=OPEN',\n",
       "    '%Ref:downloadURL': [{'identifier': '57e964b1cf751069b12beff261cec898__1703248288__source',\n",
       "      'data': {'filePath': 'https://h-o.st/sites/default/files/distribution/1-026-22-000135/Sivigila_Dengue.json',\n",
       "       'identifier': '57e964b1cf751069b12beff261cec898',\n",
       "       'mimeType': 'text/json',\n",
       "       'perspective': 'source',\n",
       "       'version': '1703248288',\n",
       "       'checksum': None}}]}}],\n",
       " 'accessLevel': 'public',\n",
       " 'contactPoint': {'hasEmail': 'medata@medellin.gov.co',\n",
       "  'fn': 'Secretaría de Salud - Unidad de Gestión de la Información y el Conocimiento'},\n",
       " '%modified': '2025-02-14T04:02:51-0500'}"
      ]
     },
     "execution_count": 3,
     "metadata": {},
     "output_type": "execute_result"
    }
   ],
   "source": [
    "metadata"
   ]
  },
  {
   "cell_type": "markdown",
   "id": "9d64bce9-9701-4401-a6bf-620bb55a9123",
   "metadata": {},
   "source": [
    "# Dengue"
   ]
  },
  {
   "cell_type": "code",
   "execution_count": 6,
   "id": "ddb3a973-1c64-431f-b415-1c4518d38786",
   "metadata": {},
   "outputs": [],
   "source": [
    "import pandas as pd\n",
    "\n",
    "# URL for the CSV file\n",
    "csv_url = \"https://medata.gov.co/sites/default/files/distribution/1-026-22-000135/sivigila_dengue.csv\"\n",
    "\n",
    "# Download the CSV data\n",
    "response = requests.get(csv_url)\n",
    "\n",
    "# Check if the request was successful\n",
    "if response.status_code == 200:\n",
    "    # Save the content to a CSV file\n",
    "    with open(\"dengue_data.csv\", \"wb\") as file:\n",
    "        file.write(response.content)\n",
    "        \n",
    "else:\n",
    "    print(f\"Error: {response.status_code}\")\n"
   ]
  },
  {
   "cell_type": "markdown",
   "id": "6626979e-f1da-4ddd-bba6-217885dda1a0",
   "metadata": {},
   "source": [
    "# Zika"
   ]
  },
  {
   "cell_type": "code",
   "execution_count": 7,
   "id": "96564555-65ba-4a16-806b-aa6170bf8d7e",
   "metadata": {},
   "outputs": [
    {
     "name": "stdout",
     "output_type": "stream",
     "text": [
      "   id  semana  edad_  uni_med_ sexo_      nombre_barrio  \\\n",
      "0   1      46     35         1     M  Campo Valdes No.2   \n",
      "1   2      36     25         1     M          Belencito   \n",
      "2   3      37     21         1     F            La Loma   \n",
      "3   4      37     19         1     F            La Rosa   \n",
      "4   5      37     42         1     F          La Gloria   \n",
      "\n",
      "                           comuna tipo_ss_ cod_ase_    fec_con_    ini_sin_  \\\n",
      "0                        Manrique        C   EPS010  13/11/2015  09/11/2015   \n",
      "1                      San Javier        C   EPS037  16/09/2015  12/09/2015   \n",
      "2  Corregimiento de San Cristobal        C   ESS065  19/09/2015  14/09/2015   \n",
      "3                      Santa Cruz        C   EPS016  17/09/2015  13/09/2015   \n",
      "4                           Belen        S   CCF002  17/09/2015  13/09/2015   \n",
      "\n",
      "   tip_cas_  pac_hos_  cod_dpto_r  cod_mpio_r  cod_dpto_o  cod_mpio_o evento  \\\n",
      "0         3         2           5           1           5           1   ZIKA   \n",
      "1         3         1           5           1           5           1   ZIKA   \n",
      "2         3         2           5           1           5           1   ZIKA   \n",
      "3         3         2           5           1           5           1   ZIKA   \n",
      "4         3         1           5           1           5           1   ZIKA   \n",
      "\n",
      "   year_  \n",
      "0   2015  \n",
      "1   2015  \n",
      "2   2015  \n",
      "3   2015  \n",
      "4   2015  \n"
     ]
    }
   ],
   "source": [
    "# Define the CSV download URL\n",
    "csv_url = \"https://medata.gov.co/sites/default/files/distribution/1-026-22-000171/sivigila_zika.csv\"\n",
    "\n",
    "# Download the CSV file\n",
    "response = requests.get(csv_url)\n",
    "\n",
    "# Check if the request was successful\n",
    "if response.status_code == 200:\n",
    "    # Save the file locally\n",
    "    with open(\"sivigila_zika.csv\", \"wb\") as file:\n",
    "        file.write(response.content)\n",
    "    \n",
    "    # Load it into a pandas DataFrame\n",
    "    df = pd.read_csv(\"sivigila_zika.csv\")\n",
    "    \n",
    "    # Display the first few rows\n",
    "    print(df.head())\n",
    "else:\n",
    "    print(f\"Error downloading the file: {response.status_code}\")\n",
    "\n"
   ]
  }
 ],
 "metadata": {
  "kernelspec": {
   "display_name": "Python 3 (ipykernel)",
   "language": "python",
   "name": "python3"
  },
  "language_info": {
   "codemirror_mode": {
    "name": "ipython",
    "version": 3
   },
   "file_extension": ".py",
   "mimetype": "text/x-python",
   "name": "python",
   "nbconvert_exporter": "python",
   "pygments_lexer": "ipython3",
   "version": "3.12.9"
  }
 },
 "nbformat": 4,
 "nbformat_minor": 5
}

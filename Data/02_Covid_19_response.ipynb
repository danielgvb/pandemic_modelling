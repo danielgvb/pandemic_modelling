{
 "cells": [
  {
   "cell_type": "markdown",
   "id": "ecbbb39a-7ad8-4eb0-9078-8c7f929726be",
   "metadata": {},
   "source": [
    "# Covid Response Tracker + Vaccines"
   ]
  },
  {
   "cell_type": "code",
   "execution_count": 1,
   "id": "526cc87f-5547-4dcd-a845-6903ec3c5aa9",
   "metadata": {},
   "outputs": [],
   "source": [
    "import pandas as pd\n",
    "import numpy as np\n",
    "import matplotlib.pyplot as plt\n",
    "import seaborn as sns"
   ]
  },
  {
   "cell_type": "markdown",
   "id": "cfa68981-36b7-4660-af3c-1b4f2644db81",
   "metadata": {},
   "source": [
    "## Response Tracker"
   ]
  },
  {
   "cell_type": "code",
   "execution_count": null,
   "id": "8e08f13d-aee3-475c-b59a-b83393a008f4",
   "metadata": {},
   "outputs": [],
   "source": [
    "df_response = pd.read_csv('')"
   ]
  }
 ],
 "metadata": {
  "kernelspec": {
   "display_name": "Python 3 (ipykernel)",
   "language": "python",
   "name": "python3"
  },
  "language_info": {
   "codemirror_mode": {
    "name": "ipython",
    "version": 3
   },
   "file_extension": ".py",
   "mimetype": "text/x-python",
   "name": "python",
   "nbconvert_exporter": "python",
   "pygments_lexer": "ipython3",
   "version": "3.12.9"
  }
 },
 "nbformat": 4,
 "nbformat_minor": 5
}
